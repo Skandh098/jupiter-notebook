{
  "metadata": {
    "kernelspec": {
      "name": "python",
      "display_name": "Python (Pyodide)",
      "language": "python"
    },
    "language_info": {
      "codemirror_mode": {
        "name": "python",
        "version": 3
      },
      "file_extension": ".py",
      "mimetype": "text/x-python",
      "name": "python",
      "nbconvert_exporter": "python",
      "pygments_lexer": "ipython3",
      "version": "3.8"
    }
  },
  "nbformat_minor": 4,
  "nbformat": 4,
  "cells": [
    {
      "cell_type": "code",
      "source": "# Introduction\n#Welcome! In this section, we will explore the significance of continuous learning and professional development. Whether you're starting a new career, advancing in your current role, or simply seeking to broaden your skill set, investing in education can open doors to endless opportunities. This journey will highlight key steps, tips, and resources to help you stay ahead in today's ever-evolving world. Let's dive into the exciting world of knowledge, growth, and self-improvement!",
      "metadata": {
        "trusted": true
      },
      "outputs": [],
      "execution_count": null
    },
    {
      "cell_type": "code",
      "source": "# Data Science Libraries\n\nData science libraries are essential tools that provide pre-built functions and methods for data analysis, machine learning, and data visualization. Here are some of the most widely used libraries in data science:\n\n1. **Pandas**  \n   A powerful library for data manipulation and analysis, especially for working with structured data in DataFrames.\n\n2. **NumPy**  \n   Provides support for large, multi-dimensional arrays and matrices, along with mathematical functions to operate on these arrays.\n\n3. **Matplotlib**  \n   A popular library for creating static, interactive, and animated visualizations in Python.\n\n4. **Seaborn**  \n   Built on top of Matplotlib, Seaborn simplifies data visualization and enhances the look of graphs with a high-level interface.\n\n5. **Scikit-learn**  \n   A machine learning library that provides simple and efficient tools for data mining and data analysis, including various algorithms for classification, regression, clustering, and more.\n\n6. **TensorFlow**  \n   An open-source library for numerical computation, widely used for building and training deep learning models.\n\n7. **Keras**  \n   A high-level neural networks API, running on top of TensorFlow, that simplifies the process of building deep learning models.\n\n8. **PyTorch**  \n   An open-source deep learning library that provides tools for building and training machine learning models, especially for deep learning tasks.\n\n9. **SciPy**  \n   A library for scientific and technical computing that builds on NumPy, adding functionality for optimization, integration, interpolation, eigenvalue problems, and more.\n\n10. **Plotly**  \n    A library for creating interactive, web-based visualizations, including charts, graphs, and maps.\n\n11. **Statsmodels**  \n    A library for statistical modeling that provides classes and functions for estimating and testing statistical models.\n\n12. **NLTK (Natural Language Toolkit)**  \n    A comprehensive library for natural language processing (NLP) tasks, such as tokenization, stemming, and part-of-speech tagging.\n\n13. **Scrapy**  \n    A web scraping framework that allows easy extraction of data from websites.\n\n14. **LightGBM**  \n    A gradient boosting framework that uses tree-based learning algorithms, optimized for performance and scalability.\n\n15. **XGBoost**  \n    A powerful and efficient implementation of gradient boosting for supervised learning tasks, particularly for structured/tabular data.\n\nThese libraries help data scientists handle everything from data cleaning, analysis, and visualization to implementing machine learning models and performing advanced statistical analysis.\n",
      "metadata": {
        "trusted": true
      },
      "outputs": [],
      "execution_count": null
    },
    {
      "cell_type": "code",
      "source": "# Data Science Tools\n\nHere is a table of some popular tools used in data science for various purposes:\n\n| **Tool**            | **Category**                | **Description**                                                                 |\n|---------------------|-----------------------------|---------------------------------------------------------------------------------|\n| **Jupyter Notebook** | Interactive Computing       | An open-source web application for creating and sharing live code, equations, visualizations, and narrative text. |\n| **RStudio**         | IDE for R                   | An integrated development environment (IDE) for R programming, widely used in data analysis and visualization. |\n| **Tableau**         | Data Visualization          | A leading data visualization tool that allows users to create interactive, shareable dashboards. |\n| **Power BI**        | Data Visualization          | A Microsoft tool for transforming data into interactive visualizations and business intelligence dashboards. |\n| **Google Colab**    | Cloud-based IDE             | A cloud-based Jupyter notebook service provided by Google for running Python code in the browser. |\n| **Apache Hadoop**   | Big Data Processing         | An open-source framework that allows for the distributed processing of large datasets across clusters of computers. |\n| **Apache Spark**    | Big Data Processing         | A unified analytics engine for big data processing, with built-in modules for streaming, machine learning, and SQL. |\n| **SQL Server**      | Database Management         | A relational database management system developed by Microsoft, used for managing and querying data. |\n| **MySQL**           | Database Management         | An open-source relational database management system, widely used for web applications and data storage. |\n| **Git**             | Version Control             | A distributed version control system that helps manage and track changes in code and collaborative projects. |\n| **Anaconda**        | Python/R Distribution       | A popular distribution of Python and R for data science, including many pre-installed libraries and tools. |\n| **AWS**             | Cloud Computing             | Amazon Web Services, a cloud platform offering computing power, storage, and machine learning services. |\n| **Azure**           | Cloud Computing             | Microsoft's cloud computing platform offering a range of services for building, deploying, and managing applications. |\n| **TensorFlow**      | Machine Learning/Deep Learning | An open-source machine learning framework developed by Google, primarily used for building deep learning models. |\n| **Keras**           | Deep Learning               | A high-level neural networks API built on top of TensorFlow, making it easier to create and train deep learning models. |\n\nThis table provides an overview of various data science tools used for coding, data management, visualization, big data processing, and machine learning. Each tool has its unique capabilities and is often chosen based on the specific needs of a project.\n",
      "metadata": {
        "trusted": true
      },
      "outputs": [],
      "execution_count": null
    },
    {
      "cell_type": "code",
      "source": "# Arithmetic Expression Examples\n\nArithmetic expressions are mathematical statements that combine numbers, operators, and variables to perform calculations. These expressions are fundamental in programming and data science, enabling us to perform tasks like basic arithmetic, mathematical modeling, and data analysis. In this section, we will explore some common examples of arithmetic expressions.\n\n### Basic Arithmetic Operators\n\nArithmetic expressions typically include the following basic operators:\n- **Addition (+)**: Adds two numbers.\n- **Subtraction (-)**: Subtracts one number from another.\n- **Multiplication (*)**: Multiplies two numbers.\n- **Division (/)**: Divides one number by another.\n- **Modulus (%)**: Returns the remainder of a division operation.\n- **Exponentiation (**) **: Raises a number to the power of another.\n\n### Example 1: Addition\n```python\nresult = 5 + 3  # Adds 5 and 3\nresult = 10 - 4  # Subtracts 4 from 10\nresult = 6 * 7  # Multiplies 6 by 7\nresult = 20 / 4  # Divides 20 by 4\nresult = 17 % 5  # Returns the remainder of 17 divided by 5\nresult = 2 ** 3  # Raises 2 to the power of 3 (2^3)\n",
      "metadata": {
        "trusted": true
      },
      "outputs": [],
      "execution_count": null
    },
    {
      "cell_type": "code",
      "source": "# Multiplying and adding numbers\n\n# Define the numbers\nnum1 = 5\nnum2 = 3\nnum3 = 8\n\n# Perform multiplication\nmultiplication_result = num1 * num2\n\n# Perform addition\naddition_result = multiplication_result + num3\n\n# Display the results\nprint(\"Multiplication Result: \", multiplication_result)\nprint(\"Addition Result: \", addition_result)\n",
      "metadata": {
        "trusted": true
      },
      "outputs": [],
      "execution_count": null
    },
    {
      "cell_type": "code",
      "source": "# Convert minutes to hours\n\n# Function to convert minutes to hours\ndef convert_minutes_to_hours(minutes):\n    hours = minutes // 60  # Integer division to get hours\n    remaining_minutes = minutes % 60  # Remainder to get remaining minutes\n    return hours, remaining_minutes\n\n# Example: Convert 135 minutes to hours\nminutes = 135\nhours, remaining_minutes = convert_minutes_to_hours(minutes)\n\n# Display the result\nprint(f\"{minutes} minutes is equal to {hours} hours and {remaining_minutes} minutes.\")\n",
      "metadata": {
        "trusted": true
      },
      "outputs": [],
      "execution_count": null
    },
    {
      "cell_type": "code",
      "source": "# Objectives\n\nThe main objectives of this session are:\n\n1. **Understand Basic Arithmetic Operations**  \n   Learn how to perform basic arithmetic operations such as addition, subtraction, multiplication, division, modulus, and exponentiation.\n\n2. **Practice Arithmetic Expressions**  \n   Gain hands-on experience by working with arithmetic expressions in programming.\n\n3. **Learn to Convert Units**  \n   Understand how to convert time units, such as converting minutes to hours, and practice implementing these conversions in code.\n\n4. **Apply Problem-Solving Skills**  \n   Develop problem-solving techniques by implementing real-world tasks using arithmetic operations and conversions.\n\n5. **Enhance Coding Skills**  \n   Strengthen your coding skills through examples and practice with mathematical and time-related operations.\n",
      "metadata": {
        "trusted": true
      },
      "outputs": [],
      "execution_count": null
    },
    {
      "cell_type": "code",
      "source": "# Author\n\nThis content was created by **[Skandh Pandey]**.  \nFeel free to reach out for any questions or feedback!\n",
      "metadata": {
        "trusted": true
      },
      "outputs": [],
      "execution_count": null
    },
    {
      "cell_type": "code",
      "source": "# Data Science Fundamentals: Arithmetic Operations and Conversions\n\nThis notebook covers essential concepts in data science, focusing on basic arithmetic operations and unit conversions. You will explore how to perform mathematical tasks such as addition, multiplication, and converting time units like minutes to hours. Through hands-on examples, this notebook aims to enhance your programming and problem-solving skills in data science.\n",
      "metadata": {
        "trusted": true
      },
      "outputs": [],
      "execution_count": null
    }
  ]
}